{
  "nbformat": 4,
  "nbformat_minor": 0,
  "metadata": {
    "colab": {
      "provenance": [],
      "gpuType": "T4"
    },
    "kernelspec": {
      "name": "python3",
      "display_name": "Python 3"
    },
    "language_info": {
      "name": "python"
    },
    "accelerator": "GPU"
  },
  "cells": [
    {
      "cell_type": "code",
      "source": [
        "!mkdir data\n",
        "!cd data && wget https://d37ci6vzurychx.cloudfront.net/trip-data/green_tripdata_2021-01.parquet"
      ],
      "metadata": {
        "id": "OFG8ligdXvw5",
        "colab": {
          "base_uri": "https://localhost:8080/"
        },
        "outputId": "dc562d7f-c3ac-428c-e8a8-f4f11a9efe9f"
      },
      "execution_count": null,
      "outputs": [
        {
          "output_type": "stream",
          "name": "stdout",
          "text": [
            "mkdir: cannot create directory ‘data’: File exists\n",
            "--2023-10-24 01:52:23--  https://d37ci6vzurychx.cloudfront.net/trip-data/green_tripdata_2021-01.parquet\n",
            "Resolving d37ci6vzurychx.cloudfront.net (d37ci6vzurychx.cloudfront.net)... 108.138.245.225, 108.138.245.58, 108.138.245.16, ...\n",
            "Connecting to d37ci6vzurychx.cloudfront.net (d37ci6vzurychx.cloudfront.net)|108.138.245.225|:443... connected.\n",
            "HTTP request sent, awaiting response... 200 OK\n",
            "Length: 1333519 (1.3M) [binary/octet-stream]\n",
            "Saving to: ‘green_tripdata_2021-01.parquet’\n",
            "\n",
            "green_tripdata_2021 100%[===================>]   1.27M  1.27MB/s    in 1.0s    \n",
            "\n",
            "2023-10-24 01:52:24 (1.27 MB/s) - ‘green_tripdata_2021-01.parquet’ saved [1333519/1333519]\n",
            "\n"
          ]
        }
      ]
    },
    {
      "cell_type": "code",
      "source": [
        "import pandas as pd"
      ],
      "metadata": {
        "id": "mTx4IdyvXTGq"
      },
      "execution_count": null,
      "outputs": []
    },
    {
      "cell_type": "code",
      "source": [
        "import pickle"
      ],
      "metadata": {
        "id": "AvbJZK9ZXYv0"
      },
      "execution_count": null,
      "outputs": []
    },
    {
      "cell_type": "code",
      "source": [
        "import seaborn as sns\n",
        "import matplotlib.pyplot as plt"
      ],
      "metadata": {
        "id": "3oQFKVMRXej9"
      },
      "execution_count": null,
      "outputs": []
    },
    {
      "cell_type": "code",
      "source": [
        "from sklearn.feature_extraction import DictVectorizer\n",
        "from sklearn.linear_model import LinearRegression\n",
        "from sklearn.linear_model import Lasso\n",
        "from sklearn.linear_model import Ridge\n",
        "\n",
        "from sklearn.metrics import mean_squared_error"
      ],
      "metadata": {
        "id": "QqWMs5btXgIU"
      },
      "execution_count": null,
      "outputs": []
    },
    {
      "cell_type": "code",
      "source": [
        "df = pd.read_parquet('./data/green_tripdata_2021-01.parquet')\n",
        "\n",
        "df['duration'] = df.lpep_dropoff_datetime - df.lpep_pickup_datetime\n",
        "df.duration = df.duration.apply(lambda td: td.total_seconds() / 60)\n",
        "\n",
        "df = df[(df.duration >= 1) & (df.duration <= 60)]\n",
        "\n",
        "categorical = ['PULocationID', 'DOLocationID']\n",
        "numerical = ['trip_distance']\n",
        "\n",
        "df[categorical] = df[categorical].astype(str)"
      ],
      "metadata": {
        "colab": {
          "base_uri": "https://localhost:8080/"
        },
        "id": "v8ZVlpgyXhrG",
        "outputId": "8cffc09a-7512-42a7-a6d6-fa5627c9c9c6"
      },
      "execution_count": null,
      "outputs": [
        {
          "output_type": "stream",
          "name": "stderr",
          "text": [
            "<ipython-input-25-6e87d9cc67e6>:11: SettingWithCopyWarning: \n",
            "A value is trying to be set on a copy of a slice from a DataFrame.\n",
            "Try using .loc[row_indexer,col_indexer] = value instead\n",
            "\n",
            "See the caveats in the documentation: https://pandas.pydata.org/pandas-docs/stable/user_guide/indexing.html#returning-a-view-versus-a-copy\n",
            "  df[categorical] = df[categorical].astype(str)\n"
          ]
        }
      ]
    }
  ]
}